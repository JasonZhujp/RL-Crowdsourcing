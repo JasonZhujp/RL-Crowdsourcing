{
 "cells": [
  {
   "cell_type": "code",
   "execution_count": 1,
   "metadata": {},
   "outputs": [],
   "source": [
    "import pickle\n",
    "import numpy as np\n",
    "import gc"
   ]
  },
  {
   "cell_type": "code",
   "execution_count": 3,
   "metadata": {},
   "outputs": [
    {
     "name": "stdout",
     "output_type": "stream",
     "text": [
      "231 True\n"
     ]
    },
    {
     "data": {
      "text/plain": [
       "212"
      ]
     },
     "execution_count": 3,
     "metadata": {},
     "output_type": "execute_result"
    }
   ],
   "source": [
    "'''读原始ood文件'''\n",
    "\n",
    "test_filename = \"../data/raw_ood_231.pkl\"\n",
    "with open(test_filename, \"rb\") as f:\n",
    "    data = pickle.load(f)\n",
    "    \n",
    "ood_w = data['ood_w']\n",
    "ood_r = data['ood_r']\n",
    "print(len(ood_w), len(ood_w)==len(ood_r))\n",
    "\n",
    "del data\n",
    "gc.collect()"
   ]
  },
  {
   "cell_type": "code",
   "execution_count": 4,
   "metadata": {},
   "outputs": [],
   "source": [
    "FORMER_E_CNT_THRESHOLD = 5\n",
    "LATTER_E_CNT_THRESHOLD = 2\n",
    "MAX_AVAILABLE_ACTION = 83\n",
    "MAX_AWARD = 4140.0\n",
    "MIN_AWARD = 0.0\n",
    "MAX_INDUSTRY_VALUE = 36\n",
    "MAX_CATEGORY_VALUE = 6\n",
    "MAX_PROJECT_QUALITY = 10.797708090145798\n",
    "MIN_PROJECT_QUALITY = 0.0\n",
    "MAX_START_GAP = 381\n",
    "MIN_START_GAP = 0\n",
    "MAX_END_GAP = 338\n",
    "MIN_END_GAP = 0"
   ]
  },
  {
   "cell_type": "code",
   "execution_count": 5,
   "metadata": {},
   "outputs": [
    {
     "name": "stdout",
     "output_type": "stream",
     "text": [
      "(231, 83, 24)\n",
      "(231,)\n",
      "(231,)\n",
      "(231,)\n",
      "(231, 83, 8)\n"
     ]
    }
   ],
   "source": [
    "'''将原始ood经归一化和填补0后转为numpy格式'''\n",
    "\n",
    "batch_states, batch_actions, batch_rewards_w, batch_rewards_r, batch_infos = [], [], [], [], []\n",
    "for i in range(len(ood_w)):\n",
    "    # 【S】\n",
    "    state_list = []\n",
    "    for row_state in ood_w[i]['state']:\n",
    "        row_state_list = []\n",
    "        row_state_list.append(row_state['a_category'])\n",
    "        for j in range(1, FORMER_E_CNT_THRESHOLD+1):\n",
    "            row_state_list.append(row_state['l'+str(j)+'_category'])\n",
    "\n",
    "        row_state_list.append(row_state['a_industry'])\n",
    "        for j in range(1, FORMER_E_CNT_THRESHOLD+1):\n",
    "            row_state_list.append(row_state['l'+str(j)+'_industry'])\n",
    "\n",
    "        row_state_list.append((row_state['a_award']-MIN_AWARD)/(MAX_AWARD-MIN_AWARD))\n",
    "        for j in range(1, FORMER_E_CNT_THRESHOLD+1):\n",
    "            row_state_list.append((row_state['l'+str(j)+'_award']-MIN_AWARD)/(MAX_AWARD-MIN_AWARD))\n",
    "\n",
    "        row_state_list.append((row_state['a_start_gap']-MIN_START_GAP)/(MAX_START_GAP-MIN_START_GAP))\n",
    "        start_gap_sum = 0\n",
    "        for j in range(1, FORMER_E_CNT_THRESHOLD+1):\n",
    "            start_gap_sum += (row_state['l'+str(j)+'_start_gap']-MIN_START_GAP)/(MAX_START_GAP-MIN_START_GAP)\n",
    "        row_state_list.append(start_gap_sum/FORMER_E_CNT_THRESHOLD)\n",
    "\n",
    "        row_state_list.append((row_state['a_end_gap']-MIN_END_GAP)/(MAX_END_GAP-MIN_END_GAP))\n",
    "        end_gap_sum = 0\n",
    "        for j in range(1, FORMER_E_CNT_THRESHOLD+1):\n",
    "            end_gap_sum += (row_state['l'+str(j)+'_end_gap']-MIN_END_GAP)/(MAX_END_GAP-MIN_END_GAP)\n",
    "        row_state_list.append(end_gap_sum/FORMER_E_CNT_THRESHOLD)\n",
    "        \n",
    "        row_state_list.append(row_state['worker_quality'])\n",
    "\n",
    "        row_state_list.append((row_state['project_quality']-MIN_PROJECT_QUALITY)/(MAX_PROJECT_QUALITY-MIN_PROJECT_QUALITY))\n",
    "        state_list.append(row_state_list)\n",
    "    np_state = np.array(state_list)\n",
    "    np_state = np.concatenate((np_state, np.zeros([MAX_AVAILABLE_ACTION - np_state.shape[0], np_state.shape[1]])), axis=0)\n",
    "    batch_states.append(np_state)\n",
    "    # 【A】\n",
    "    batch_actions.append(ood_w[i]['action'])\n",
    "    # 【R】\n",
    "    batch_rewards_w.append(ood_w[i]['reward'])\n",
    "    batch_rewards_r.append(ood_r[i]['reward'])\n",
    "    # 【INFO】\n",
    "    info_list = []\n",
    "    for row_state in ood_w[i]['state']:\n",
    "        info_list.append([len(ood_w[i]['state']),  # legal_max_action\n",
    "                          row_state['a_category'],\n",
    "                          row_state['a_industry'],\n",
    "                          row_state['a_award'],\n",
    "                          row_state['a_start_gap'],\n",
    "                          row_state['a_end_gap'],\n",
    "                          row_state['worker_quality'],\n",
    "                          row_state['project_quality']])\n",
    "    np_info = np.array(info_list)\n",
    "    np_info = np.concatenate((np_info, np.zeros([MAX_AVAILABLE_ACTION - np_info.shape[0], np_info.shape[1]])), axis=0)\n",
    "    batch_infos.append(np_info)\n",
    "\n",
    "print(np.array(batch_states).shape)\n",
    "print(np.array(batch_actions).shape)\n",
    "print(np.array(batch_rewards_w).shape)\n",
    "print(np.array(batch_rewards_r).shape)\n",
    "print(np.array(batch_infos).shape)\n",
    "assert len(batch_states) == len(batch_actions) == len(batch_rewards_w) == len(batch_rewards_r) == len(batch_infos)\n",
    "\n",
    "ood_transition_filename = \"../exp_data/ood_transition\"+str(np.array(batch_states).shape[0])+\".pkl\"\n",
    "with open(ood_transition_filename, \"wb\") as f:\n",
    "    pickle.dump({'states': np.array(batch_states),\n",
    "                 'actions': np.array(batch_actions, dtype=np.int32),\n",
    "                 'rewards_w': np.array(batch_rewards_w),\n",
    "                 'rewards_r': np.array(batch_rewards_r),\n",
    "                 'infos': np.array(batch_infos)\n",
    "                 }, f)"
   ]
  },
  {
   "cell_type": "code",
   "execution_count": 9,
   "metadata": {},
   "outputs": [
    {
     "data": {
      "text/plain": [
       "132"
      ]
     },
     "execution_count": 9,
     "metadata": {},
     "output_type": "execute_result"
    }
   ],
   "source": [
    "ood_transition_filename = \"../exp_data/ood_transition132.pkl\"\n",
    "with open(ood_transition_filename, \"rb\") as f:\n",
    "    data = pickle.load(f)\n",
    "infos = data['infos']\n",
    "len(infos)"
   ]
  },
  {
   "cell_type": "code",
   "execution_count": 11,
   "metadata": {},
   "outputs": [
    {
     "data": {
      "text/plain": [
       "54.803030303030305"
      ]
     },
     "execution_count": 11,
     "metadata": {},
     "output_type": "execute_result"
    }
   ],
   "source": [
    "np.mean(infos[:, 0, 0])"
   ]
  }
 ],
 "metadata": {
  "kernelspec": {
   "display_name": "default_env",
   "language": "python",
   "name": "python3"
  },
  "language_info": {
   "codemirror_mode": {
    "name": "ipython",
    "version": 3
   },
   "file_extension": ".py",
   "mimetype": "text/x-python",
   "name": "python",
   "nbconvert_exporter": "python",
   "pygments_lexer": "ipython3",
   "version": "3.8.17"
  },
  "orig_nbformat": 4
 },
 "nbformat": 4,
 "nbformat_minor": 2
}
